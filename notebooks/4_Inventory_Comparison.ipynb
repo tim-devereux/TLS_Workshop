{
 "cells": [
  {
   "cell_type": "markdown",
   "metadata": {},
   "source": [
    "## Notebook 4 - Comparison of RCT output to inventory data. \n",
    "\n",
    "This notebook compares the distibutions of DBH and tree heights between the inventory data and RCT. It is a quick method to check the quality of the RCT outputs and can show us where improvements need to be made."
   ]
  },
  {
   "cell_type": "code",
   "execution_count": null,
   "metadata": {},
   "outputs": [],
   "source": [
    "# Suppress depreciation warnings\n",
    "import warnings\n",
    "warnings.filterwarnings(\"ignore\", category=DeprecationWarning)\n",
    "\n",
    "# Import the required modules\n",
    "import matplotlib.pyplot as plt\n",
    "import numpy as np\n",
    "import pandas as pd\n",
    "import scipy.stats as stats\n",
    "import helper_functions"
   ]
  },
  {
   "cell_type": "markdown",
   "metadata": {},
   "source": [
    "### Read in tree data from the parsed and translated RCT data."
   ]
  },
  {
   "cell_type": "code",
   "execution_count": null,
   "metadata": {},
   "outputs": [],
   "source": [
    "rct_df = pd.read_csv('../data/rct_translated_joined_data.csv')\n",
    "rct_df"
   ]
  },
  {
   "cell_type": "markdown",
   "metadata": {},
   "source": [
    "### Load in Inventory data."
   ]
  },
  {
   "cell_type": "code",
   "execution_count": null,
   "metadata": {},
   "outputs": [],
   "source": [
    "# Read in as pandas dataframe\n",
    "inventory_df = pd.read_csv('../data/inventory_data.csv')\n",
    "\n",
    "# Filter to only include the data for Mak1\n",
    "inventory_df = inventory_df[inventory_df['plot_id'] == 'Mak1']\n",
    "\n",
    "# Convert the inventory DBH to meters\n",
    "inventory_df['dbh'] = inventory_df['dbh'] / 100\n",
    "\n",
    "inventory_df"
   ]
  },
  {
   "cell_type": "markdown",
   "metadata": {},
   "source": [
    "### Scatter plot of Inventory and RCT DBH / Height"
   ]
  },
  {
   "cell_type": "code",
   "execution_count": null,
   "metadata": {},
   "outputs": [],
   "source": [
    "plt.figure(figsize=(10, 10))\n",
    "plt.scatter(inventory_df['dbh'], inventory_df['height'])\n",
    "plt.scatter(rct_df['DBH'], rct_df['height'])\n",
    "plt.xlabel('DBH')\n",
    "plt.ylabel('Height')\n",
    "plt.title('DBH vs Height')\n",
    "plt.legend(['Inventory', 'RCT'])"
   ]
  },
  {
   "cell_type": "markdown",
   "metadata": {},
   "source": [
    "### Plot comparison of DBH and height distributions"
   ]
  },
  {
   "cell_type": "code",
   "execution_count": null,
   "metadata": {},
   "outputs": [],
   "source": [
    "# Plotting the DBH histogram\n",
    "plt.figure(figsize=(10, 6))\n",
    "plt.hist(rct_df['DBH'], bins=30, alpha=0.5, label='RCT DBH', color='blue')\n",
    "plt.hist(inventory_df['dbh'], bins=30, alpha=0.5, label='Inventory DBH', color='green')\n",
    "plt.xlabel('DBH (meters)')\n",
    "plt.ylabel('Frequency')\n",
    "plt.title('Distribution of DBH')\n",
    "plt.legend()\n",
    "plt.show()"
   ]
  },
  {
   "cell_type": "code",
   "execution_count": null,
   "metadata": {},
   "outputs": [],
   "source": [
    "# Plotting the height histogram\n",
    "plt.figure(figsize=(10, 6))\n",
    "plt.hist(rct_df['height'], bins=30, alpha=0.5, label='RCT DBH', color='blue')\n",
    "plt.hist(inventory_df['height'], bins=30, alpha=0.5, label='Inventory DBH', color='green')\n",
    "plt.xlabel('DBH (meters)')\n",
    "plt.ylabel('Frequency')\n",
    "plt.title('Distribution of Tree Height')\n",
    "plt.legend()\n",
    "plt.show()"
   ]
  },
  {
   "cell_type": "markdown",
   "metadata": {},
   "source": [
    "To create a smooth line representation of the distribution of DBH data, you can use kernel density estimation (KDE) instead of plotting the raw histogram data. KDE will provide a smooth curve that estimates the probability density function of the variable. "
   ]
  },
  {
   "cell_type": "code",
   "execution_count": null,
   "metadata": {},
   "outputs": [],
   "source": [
    "# Compute DBH histogram data\n",
    "# Define the range over which to plot the KDE\n",
    "x = np.linspace(0, max(rct_df['DBH'].max(), inventory_df['dbh'].max()), 1000)\n",
    "\n",
    "# Calculate KDE for each dataset\n",
    "rct_kde = stats.gaussian_kde(rct_df['DBH'])\n",
    "inv_kde = stats.gaussian_kde(inventory_df['dbh'])\n",
    "\n",
    "# Plotting the KDEs\n",
    "plt.figure(figsize=(10, 6))\n",
    "plt.plot(x, rct_kde(x), label='RCT DBH', color='blue')\n",
    "plt.plot(x, inv_kde(x), label='Inventory DBH', color='green')\n",
    "plt.xlabel('DBH (meters)')\n",
    "plt.ylabel('Density')\n",
    "plt.title('Smoothed Distribution of DBH')\n",
    "plt.legend()\n",
    "plt.show()"
   ]
  },
  {
   "cell_type": "code",
   "execution_count": null,
   "metadata": {},
   "outputs": [],
   "source": [
    "# Compute Height histogram data\n",
    "# Define the range over which to plot the KDE\n",
    "x = np.linspace(0, max(rct_df['height'].max(), inventory_df['height'].max()), 1000)\n",
    "\n",
    "# Calculate KDE for each dataset\n",
    "rct_kde = stats.gaussian_kde(rct_df['height'])\n",
    "inv_kde = stats.gaussian_kde(inventory_df['height'])\n",
    "\n",
    "# Plotting the KDEs\n",
    "plt.figure(figsize=(10, 6))\n",
    "plt.plot(x, rct_kde(x), label='RCT Height', color='blue')\n",
    "plt.plot(x, inv_kde(x), label='Inventory Height', color='green')\n",
    "plt.xlabel('Height (meters)')\n",
    "plt.ylabel('Density')\n",
    "plt.title('Smoothed Distribution of Tree Height')\n",
    "plt.legend()\n",
    "plt.show()"
   ]
  }
 ],
 "metadata": {
  "kernelspec": {
   "display_name": ".venv",
   "language": "python",
   "name": "python3"
  },
  "language_info": {
   "codemirror_mode": {
    "name": "ipython",
    "version": 3
   },
   "file_extension": ".py",
   "mimetype": "text/x-python",
   "name": "python",
   "nbconvert_exporter": "python",
   "pygments_lexer": "ipython3",
   "version": "3.11.4"
  }
 },
 "nbformat": 4,
 "nbformat_minor": 2
}
