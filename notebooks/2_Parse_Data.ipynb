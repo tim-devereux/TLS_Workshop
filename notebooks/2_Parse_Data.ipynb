{
 "cells": [
  {
   "cell_type": "markdown",
   "metadata": {},
   "source": [
    "### Notebook 2 - Parse RaycloudTools Output\n",
    "\n",
    "This notebook extracts the useful metrics from RCT outputs and saves them to a CSV. It uses several functions for parsing data that are defined in helper_functions.py. The ouputs from this notebook can be used for further analysis in subsequent notebooks and also within other software like R or QGIS."
   ]
  },
  {
   "cell_type": "markdown",
   "metadata": {},
   "source": [
    "### Install the required Python packages.\n",
    "    \n",
    "Once this has been run once, you can comment out the code using the '#' character at the start of the line."
   ]
  },
  {
   "cell_type": "code",
   "execution_count": null,
   "metadata": {},
   "outputs": [],
   "source": [
    "! pip install pandas matplotlib numpy shapely geopandas"
   ]
  },
  {
   "cell_type": "code",
   "execution_count": null,
   "metadata": {},
   "outputs": [],
   "source": [
    "# Suppress depreciation warnings\n",
    "import warnings\n",
    "warnings.filterwarnings(\"ignore\", category=DeprecationWarning)\n",
    "\n",
    "# Import the required modules\n",
    "import matplotlib.pyplot as plt\n",
    "import numpy as np\n",
    "import pandas as pd\n",
    "import helper_functions"
   ]
  },
  {
   "cell_type": "markdown",
   "metadata": {},
   "source": [
    "### Read tree level data from treefile generated from rayextract trees"
   ]
  },
  {
   "cell_type": "code",
   "execution_count": null,
   "metadata": {},
   "outputs": [],
   "source": [
    "tree_df = helper_functions.attributes_tree('../data/Mak1_clipped_raycloud_inside_trees.txt')\n",
    "tree_df.head()"
   ]
  },
  {
   "cell_type": "markdown",
   "metadata": {},
   "source": [
    "### Read in tree level data from treefile generated using treeinfo. This data file will have the '_trees_info.txt' suffix."
   ]
  },
  {
   "cell_type": "code",
   "execution_count": null,
   "metadata": {},
   "outputs": [],
   "source": [
    "tree_info_df = helper_functions.treeinfo_attributes_tree('../data/Mak1_clipped_raycloud_inside_trees_info.txt')\n",
    "tree_info_df.head()"
   ]
  },
  {
   "cell_type": "markdown",
   "metadata": {},
   "source": [
    "### Join the two tree level treefile dataframes"
   ]
  },
  {
   "cell_type": "code",
   "execution_count": null,
   "metadata": {},
   "outputs": [],
   "source": [
    "# Join the tree_info_df and tree_df dataframes on the 'tree_id' column\n",
    "tree_merged_df = tree_info_df.merge(tree_df , on='tree_id')\n",
    "\n",
    "# Select the columns to be included in the final dataframe\n",
    "tree_merged_df = tree_merged_df[['x', 'y', 'z','tree_id', 'DBH', 'crown_radius', 'height']]\n",
    "\n",
    "# Display the first few rows of the final dataframe\n",
    "tree_merged_df.head()"
   ]
  },
  {
   "cell_type": "markdown",
   "metadata": {},
   "source": [
    "### Read in the branch segment level data from treefile generated from rayextract trees"
   ]
  },
  {
   "cell_type": "code",
   "execution_count": null,
   "metadata": {},
   "outputs": [],
   "source": [
    "branch_segments_df = helper_functions.treeinfo_attributes_segment('../data/Mak1_clipped_raycloud_inside_trees_info.txt')\n",
    "branch_segments_df.head()"
   ]
  },
  {
   "cell_type": "markdown",
   "metadata": {},
   "source": [
    "### Calculate total tree volumes by summing the branch segment volumes by 'tree_id'"
   ]
  },
  {
   "cell_type": "code",
   "execution_count": null,
   "metadata": {},
   "outputs": [],
   "source": [
    "# Group by 'tree_id' and calculate the sum of 'volume' for each group\n",
    "total_volume_per_tree = branch_segments_df.groupby('tree_id')['volume'].sum()\n",
    "total_volume_per_tree"
   ]
  },
  {
   "cell_type": "markdown",
   "metadata": {},
   "source": [
    "### Join dataframes on the 'tree_id' column"
   ]
  },
  {
   "cell_type": "code",
   "execution_count": null,
   "metadata": {},
   "outputs": [],
   "source": [
    "# Join the tree_info_df and tree_df dataframes on the 'tree_id' column\n",
    "merged_df_final = tree_merged_df.merge(total_volume_per_tree , on='tree_id')\n",
    "merged_df_final"
   ]
  },
  {
   "cell_type": "markdown",
   "metadata": {},
   "source": [
    "### Finally save the data to a csv"
   ]
  },
  {
   "cell_type": "code",
   "execution_count": null,
   "metadata": {},
   "outputs": [],
   "source": [
    "# Save to csv\n",
    "merged_df_final.to_csv('../data/rct_tree_data.csv', index=False)"
   ]
  }
 ],
 "metadata": {
  "kernelspec": {
   "display_name": ".venv",
   "language": "python",
   "name": "python3"
  },
  "language_info": {
   "codemirror_mode": {
    "name": "ipython",
    "version": 3
   },
   "file_extension": ".py",
   "mimetype": "text/x-python",
   "name": "python",
   "nbconvert_exporter": "python",
   "pygments_lexer": "ipython3",
   "version": "3.11.4"
  }
 },
 "nbformat": 4,
 "nbformat_minor": 2
}
