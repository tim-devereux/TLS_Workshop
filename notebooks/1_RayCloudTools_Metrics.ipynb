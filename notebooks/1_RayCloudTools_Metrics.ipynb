{
 "cells": [
  {
   "cell_type": "markdown",
   "metadata": {},
   "source": [
    "# Extracting Tree Structural Metrics using RayCloudTools\n",
    "\n",
    "## Overview\n",
    "\n",
    "This guide explains how to extract plot level forest structural information using RayCloudTools.\n",
    "## Prerequisites\n",
    "\n",
    "- **Dependencies**: Ensure you installed VSCode and WSL with the RayCloudTools container.\n",
    "- **Environment**: You should have this repository open in VSCode, using WSL as the host.\n",
    "- **Data Preparation**: You should have an already coregistered plot level point cloud as LAZ v1.2.\n",
    "\n",
    "## Workflow Steps\n",
    "\n",
    "\n",
    "### 1. Importing Data\n",
    "\n",
    "To import point cloud data to use is RCT, we use the command rayimport:\n",
    "\n",
    "Example command:\n"
   ]
  },
  {
   "cell_type": "code",
   "execution_count": null,
   "metadata": {},
   "outputs": [],
   "source": [
    "!rayimport cloud.las ray 0,0,-10"
   ]
  },
  {
   "cell_type": "markdown",
   "metadata": {},
   "source": [
    "### 2. Clipping Data to Plot Boundary\n",
    "\n",
    "Next, clip the point cloud to the plot boundary using 'raysplit capsule'. This command splits within a cylindrical capsule using the cylinder start, end and radius. If the plot centre coordinate is not already known, we can determine this using CloudCompare. We already know the plot centre is 0,0,0, and the plot radius is 25m. The the Z upper bound is set to 30m (should be more than the tallest tree), and the Z lower bound is set as -10 to capture any data below 0. This will give use the following command: "
   ]
  },
  {
   "cell_type": "code",
   "execution_count": null,
   "metadata": {},
   "outputs": [],
   "source": [
    "raysplit cloud_raycloud.ply capsule 0,0,-10 0,0,30 25"
   ]
  },
  {
   "cell_type": "markdown",
   "metadata": {},
   "source": [
    "\n",
    "The output is 2 separate rayclouds, '_inside.ply' and '_outside.ply'. The data within our plot will have the '_inside.ply' suffix. This is the data we will use in the subsequent steps. \n",
    "\n",
    "### 3. Extracting terrain\n",
    "\n",
    "Here we extract the digital terrain model, this is required to determine the base of trees in the subsequent step. \n"
   ]
  },
  {
   "cell_type": "code",
   "execution_count": null,
   "metadata": {},
   "outputs": [],
   "source": [
    "!@rayextract terrain cloud_raycloud_inside.ply"
   ]
  },
  {
   "cell_type": "markdown",
   "metadata": {},
   "source": [
    "The ouput with be a 3D mesh, which deliniates the contours of the ground."
   ]
  },
  {
   "cell_type": "markdown",
   "metadata": {},
   "source": [
    "\n",
    "### 4. Extracting trees using 'rayextract trees'\n",
    "\n",
    "Extract trees using the raycloud and the terrain mesh as input:\n"
   ]
  },
  {
   "cell_type": "code",
   "execution_count": null,
   "metadata": {},
   "outputs": [],
   "source": [
    "!rayextract trees cloud_raycloud_inside.ply cloud_raycloud_inside_mesh.ply"
   ]
  },
  {
   "cell_type": "markdown",
   "metadata": {},
   "source": [
    "\n",
    "rayextract trees will generate three outputs:\n",
    "\n",
    "1. A segmented raycloud, where each tree is uniquely colored.\n",
    "2. A 3D mesh representing the woody components (stems and branches).\n",
    "3.  A trees.txt file containing cylinder data representing the tree structural models. All tree metrics are derived from these models.\n",
    "\n",
    "### 5. Computing tree metrics\n",
    "\n",
    "Finally, we compute a set of common metrics from the structural models using 'treeinfo'. \n",
    "\n"
   ]
  },
  {
   "cell_type": "code",
   "execution_count": null,
   "metadata": {},
   "outputs": [],
   "source": [
    "!treeinfo trees cloud_raycloud_inside_tree.txt"
   ]
  },
  {
   "cell_type": "markdown",
   "metadata": {},
   "source": [
    "\n",
    "This will produce another .txt file with the suffix '_trees_info.txt'. This file contains the additional metrics per tree.  This file and 'trees.txt' contain all the data that is used in the subsequent python anlysis. "
   ]
  }
 ],
 "metadata": {
  "language_info": {
   "name": "python"
  }
 },
 "nbformat": 4,
 "nbformat_minor": 2
}
