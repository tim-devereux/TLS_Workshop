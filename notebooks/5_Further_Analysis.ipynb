{
 "cells": [
  {
   "cell_type": "markdown",
   "metadata": {},
   "source": [
    "## Notebook 5 - Further Anlalysis of RCT output.\n",
    "\n",
    "This notebook shows a few other ways RCT output can be visualised. If you have any ideas of your own, the end of this notebook would be a good place to add it. "
   ]
  },
  {
   "cell_type": "code",
   "execution_count": null,
   "metadata": {},
   "outputs": [],
   "source": [
    "# Suppress depreciation warnings\n",
    "import warnings\n",
    "warnings.filterwarnings(\"ignore\", category=DeprecationWarning)\n",
    "\n",
    "# Import the required modules\n",
    "import matplotlib.pyplot as plt\n",
    "import numpy as np\n",
    "import pandas as pd\n",
    "import helper_functions"
   ]
  },
  {
   "cell_type": "markdown",
   "metadata": {},
   "source": [
    "### Read segment level data from forest treefile generated using treeinfo"
   ]
  },
  {
   "cell_type": "code",
   "execution_count": null,
   "metadata": {},
   "outputs": [],
   "source": [
    "tree_segments_df = helper_functions.treeinfo_attributes_segment('../data/Mak1_clipped_raycloud_inside_trees_info.txt')\n",
    "tree_segments_df"
   ]
  },
  {
   "cell_type": "markdown",
   "metadata": {},
   "source": [
    "### Get the plot total volume"
   ]
  },
  {
   "cell_type": "code",
   "execution_count": null,
   "metadata": {},
   "outputs": [],
   "source": [
    "plot_volume = tree_segments_df['volume'].sum() \n",
    "print('The total volume of the plot is:', plot_volume, 'm^3')"
   ]
  },
  {
   "cell_type": "markdown",
   "metadata": {},
   "source": [
    "### Plot the mean segment volume by height with bins of 1 meter for the whole plot"
   ]
  },
  {
   "cell_type": "code",
   "execution_count": null,
   "metadata": {},
   "outputs": [],
   "source": [
    "# Normalize 'z' values to start from 0\n",
    "tree_segments_df.loc[:, 'z_normalized'] = tree_segments_df['z'] - tree_segments_df['z'].min()\n",
    "\n",
    "# Round the normalized 'z' values to the nearest meter\n",
    "tree_segments_df.loc[:, 'z_rounded'] = np.round(tree_segments_df['z_normalized'])\n",
    "\n",
    "# Group by the rounded normalized height ('z_rounded') and calculate the mean volume for each bin\n",
    "mean_volume_by_height = tree_segments_df.groupby('z_rounded')['volume'].mean()\n",
    "\n",
    "# Plot the mean volume by height with bins of 1 meter\n",
    "plt.figure(figsize=(10, 8))\n",
    "plt.plot(mean_volume_by_height.values, mean_volume_by_height.index, linestyle='-')\n",
    "\n",
    "# Add labels and title\n",
    "plt.ylabel('Height (m)')\n",
    "plt.xlabel('Mean Segment Volume [m^3]')\n",
    "plt.title('Mean Segment Volume by Height (1m bins)')\n",
    "\n",
    "# Show the plot\n",
    "plt.grid(True)\n",
    "plt.show()\n"
   ]
  },
  {
   "cell_type": "markdown",
   "metadata": {},
   "source": [
    "### Plot the mean segment volume by height with bins of 1 meter for a single tree"
   ]
  },
  {
   "cell_type": "code",
   "execution_count": null,
   "metadata": {},
   "outputs": [],
   "source": [
    "# Select a single tree from the segment dataframe\n",
    "tree_segments_df_single = tree_segments_df.loc[tree_segments_df['tree_id'] == 22]\n",
    "\n",
    "# Normalize 'z' values to start from 0\n",
    "tree_segments_df_single.loc[:, 'z_normalized'] = tree_segments_df_single['z'] - tree_segments_df_single['z'].min()\n",
    "\n",
    "# Round the normalized 'z' values to the nearest meter\n",
    "tree_segments_df_single.loc[:, 'z_rounded'] = np.round(tree_segments_df_single['z_normalized'])\n",
    "\n",
    "# Group by the rounded normalized height ('z_rounded') and calculate the mean volume for each bin\n",
    "mean_volume_by_height = tree_segments_df_single.groupby('z_rounded')['radius'].mean()\n",
    "\n",
    "# Plot the mean volume by height with bins of 1 meter\n",
    "plt.figure(figsize=(10, 8))\n",
    "plt.plot(mean_volume_by_height.values, mean_volume_by_height.index, linestyle='-')\n",
    "\n",
    "# Add labels and title\n",
    "plt.ylabel('Height (m)')\n",
    "plt.xlabel('Mean Segment Volume [m^3]')\n",
    "plt.title('Mean Segment Volume by Height (1m bins)')\n",
    "\n",
    "# Show the plot\n",
    "plt.grid(True)\n",
    "plt.show()\n"
   ]
  },
  {
   "cell_type": "markdown",
   "metadata": {},
   "source": [
    "### Read in the tree level data prepared in previous notebooks"
   ]
  },
  {
   "cell_type": "code",
   "execution_count": null,
   "metadata": {},
   "outputs": [],
   "source": [
    "rct_df = pd.read_csv('../data/rct_translated_joined_data.csv')\n",
    "rct_df"
   ]
  },
  {
   "cell_type": "markdown",
   "metadata": {},
   "source": [
    "### Plot Height by DBH for trees with DBH over 10cm"
   ]
  },
  {
   "cell_type": "code",
   "execution_count": null,
   "metadata": {},
   "outputs": [],
   "source": [
    "# Get DBH over 10cm\n",
    "rct_df_filtered = rct_df[rct_df['DBH'] > 0.1]\n",
    "\n",
    "# Plot the DBH vs Height\n",
    "plt.figure(figsize=(10, 10))\n",
    "plt.scatter(rct_df_filtered['DBH'], rct_df_filtered['height'])\n",
    "plt.xlabel('DBH')\n",
    "plt.ylabel('Height')\n",
    "plt.title('DBH vs Height (DBH > 10cm)')\n",
    "plt.grid(True)\n",
    "plt.show()\n"
   ]
  },
  {
   "cell_type": "markdown",
   "metadata": {},
   "source": [
    "### Plot tree locations with stem basal area"
   ]
  },
  {
   "cell_type": "code",
   "execution_count": null,
   "metadata": {},
   "outputs": [],
   "source": [
    "plt.figure(figsize=(10, 8))\n",
    "\n",
    "rct_df_filtered['stem_area'] = np.pi * (rct_df_filtered['DBH'] ** 2) * 100\n",
    "scatter = plt.scatter(rct_df_filtered['x'], rct_df_filtered['y'], s=rct_df_filtered['stem_area'])\n",
    "plt.xlabel('X')\n",
    "plt.ylabel('Y')\n",
    "plt.title('Tree Locations with Stem Basal Area')\n",
    "plt.grid(True)\n",
    "\n",
    "# This is text, adjust the placement and text as needed\n",
    "plt.text(0.99, 0.01, 'Note: Stem surface area is scaled by a factor of 100 from the actual area',\n",
    "         verticalalignment='bottom', horizontalalignment='right',\n",
    "         transform=plt.gca().transAxes,  # This aligns the text to the axes\n",
    "         color='blue', fontsize=8)\n",
    "\n",
    "plt.show()"
   ]
  },
  {
   "cell_type": "markdown",
   "metadata": {},
   "source": [
    "### Plotting tree locations with stem basal area and crown radius"
   ]
  },
  {
   "cell_type": "code",
   "execution_count": null,
   "metadata": {},
   "outputs": [],
   "source": [
    "import matplotlib.colors as mcolors\n",
    "\n",
    "# Setup the figure and axes\n",
    "fig, ax = plt.subplots(figsize=(10, 8))\n",
    "\n",
    "# Define the colormap for the crown radius circles\n",
    "cmap = plt.cm.viridis\n",
    "\n",
    "# Normalize the height column for the colormap to color the crown radius circles by tree height\n",
    "norm = mcolors.Normalize(vmin=rct_df_filtered['height'].min(), vmax=rct_df_filtered['height'].max())\n",
    "\n",
    "# Adding circles to represent crown radius, colored by height\n",
    "for idx, row in rct_df_filtered.iterrows():\n",
    "    color = cmap(norm(row['height']))  # Determine circle color based on tree height\n",
    "    crown_circle = plt.Circle((row['x_translated'], row['y_translated']), row['crown_radius'], color=color, fill=True, alpha=0.4, linewidth=1.5)\n",
    "    ax.add_artist(crown_circle)\n",
    "\n",
    "# Plotting tree locations with stem area as black circles\n",
    "ax.scatter(rct_df_filtered['x_translated'], rct_df_filtered['y_translated'], s=rct_df_filtered['stem_area'], c='black', label='Stem Area', alpha=0.6, edgecolors='none')\n",
    "\n",
    "# Set x and y limits\n",
    "ax.set_xlim(rct_df_filtered['x_translated'].min() - 10, rct_df_filtered['x_translated'].max() + 10)\n",
    "ax.set_ylim(rct_df_filtered['y_translated'].min() - 10, rct_df_filtered['y_translated'].max() + 10)\n",
    "\n",
    "# Customizing the plot\n",
    "ax.set_xlabel('X')\n",
    "ax.set_ylabel('Y')\n",
    "ax.set_title('Tree Locations with Stem Area and Crown Radius by Height')\n",
    "ax.grid(True)\n",
    "\n",
    "# Adding a colorbar to indicate the scale for tree height\n",
    "sm = plt.cm.ScalarMappable(cmap=cmap, norm=norm)\n",
    "sm.set_array([])\n",
    "plt.colorbar(sm, ax=ax, label='Height')\n",
    "\n",
    "# This is text, adjust the placement and text as needed\n",
    "plt.text(0.99, 0.01, 'Note: Stem surface area is scaled by a factor of 100 from the actual area',\n",
    "         verticalalignment='bottom', horizontalalignment='right',\n",
    "         transform=plt.gca().transAxes,  # This aligns the text to the axes\n",
    "         color='blue', fontsize=8)\n",
    "\n",
    "plt.show()"
   ]
  }
 ],
 "metadata": {
  "kernelspec": {
   "display_name": ".venv",
   "language": "python",
   "name": "python3"
  },
  "language_info": {
   "codemirror_mode": {
    "name": "ipython",
    "version": 3
   },
   "file_extension": ".py",
   "mimetype": "text/x-python",
   "name": "python",
   "nbconvert_exporter": "python",
   "pygments_lexer": "ipython3",
   "version": "3.11.4"
  }
 },
 "nbformat": 4,
 "nbformat_minor": 2
}
