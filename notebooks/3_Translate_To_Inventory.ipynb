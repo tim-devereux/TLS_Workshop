{
 "cells": [
  {
   "cell_type": "markdown",
   "metadata": {},
   "source": [
    "### Notebook 3 - Translate RCT Output to align with Inventory Data\n",
    "\n",
    "This notebook takes the parsed RCT output from the previous notebooks and aligns it with the inventory data. It also transfers the Tree ID from the inventory to the RCT data using a spatial join."
   ]
  },
  {
   "cell_type": "code",
   "execution_count": null,
   "metadata": {},
   "outputs": [],
   "source": [
    "# Suppress depreciation warnings\n",
    "import warnings\n",
    "warnings.filterwarnings(\"ignore\", category=DeprecationWarning)\n",
    "\n",
    "# Import the required modules\n",
    "import matplotlib.pyplot as plt\n",
    "import numpy as np\n",
    "import pandas as pd\n",
    "import helper_functions"
   ]
  },
  {
   "cell_type": "markdown",
   "metadata": {},
   "source": [
    "### Load in Inventory data"
   ]
  },
  {
   "cell_type": "code",
   "execution_count": null,
   "metadata": {},
   "outputs": [],
   "source": [
    "# Read in as pandas dataframe\n",
    "inventory_df = pd.read_csv('../data/inventory_data.csv')\n",
    "\n",
    "# Filter to only include the data for Mak1\n",
    "inventory_df = inventory_df[inventory_df['plot_id'] == 'Mak1']\n",
    "\n",
    "inventory_df"
   ]
  },
  {
   "cell_type": "markdown",
   "metadata": {},
   "source": [
    "### Convert the inventory tree locations to Cartesian coordinates"
   ]
  },
  {
   "cell_type": "code",
   "execution_count": null,
   "metadata": {},
   "outputs": [],
   "source": [
    "inventory_df['x'] = inventory_df['distance'] * np.sin(np.radians(inventory_df['bearing']))\n",
    "inventory_df['y'] = inventory_df['distance'] * np.cos(np.radians(inventory_df['bearing']))"
   ]
  },
  {
   "cell_type": "markdown",
   "metadata": {},
   "source": [
    "#### Load in the RCT data"
   ]
  },
  {
   "cell_type": "code",
   "execution_count": null,
   "metadata": {},
   "outputs": [],
   "source": [
    "rct_df = pd.read_csv('../data/rct_tree_data.csv')\n",
    "rct_df"
   ]
  },
  {
   "cell_type": "code",
   "execution_count": null,
   "metadata": {},
   "outputs": [],
   "source": [
    "# Plot the RCT tree locations along with inventory data\n",
    "plt.figure(figsize=(12, 12))\n",
    "\n",
    "# Scatter plot for tree_merged_df\n",
    "plt.scatter(rct_df['x'], rct_df['y'], alpha=0.5, label='RCT Trees')\n",
    "\n",
    "# Scatter plot for inventory_df\n",
    "plt.scatter(inventory_df['x'], inventory_df['y'], alpha=0.5, label='Inventory Trees')\n",
    "\n",
    "# Adding tree ID labels for inventory_df points\n",
    "for i in range(inventory_df.shape[0]):\n",
    "    plt.text(inventory_df['x'][i], inventory_df['y'][i], f\"{inventory_df['tree_number'][i]}\")\n",
    "\n",
    "# Adding labels and grid\n",
    "plt.xlabel('X Coordinate')\n",
    "plt.ylabel('Y Coordinate')\n",
    "plt.grid(True)\n",
    "plt.axhline(0, color='black', linewidth=0.5)\n",
    "plt.axvline(0, color='black', linewidth=0.5)\n",
    "plt.legend()\n",
    "plt.show()"
   ]
  },
  {
   "cell_type": "markdown",
   "metadata": {},
   "source": [
    "### Perfom translation of RCT data to inventory using Open3D iterative closest point algorthim."
   ]
  },
  {
   "cell_type": "code",
   "execution_count": null,
   "metadata": {},
   "outputs": [],
   "source": [
    "import open3d as o3d\n",
    "\n",
    "# Convert dataframes to numpy arrays of points\n",
    "source_points = rct_df[['x', 'y']].to_numpy()\n",
    "target_points = inventory_df[['x', 'y']].to_numpy()\n",
    "\n",
    "# Ensure points are in the correct shape (Nx3) by adding a z dimension of 0\n",
    "source_points = np.hstack((source_points, np.zeros((source_points.shape[0], 1))))\n",
    "target_points = np.hstack((target_points, np.zeros((target_points.shape[0], 1))))\n",
    "\n",
    "# Convert numpy arrays to Open3D point clouds\n",
    "source_pcd = o3d.geometry.PointCloud()\n",
    "source_pcd.points = o3d.utility.Vector3dVector(source_points)\n",
    "\n",
    "target_pcd = o3d.geometry.PointCloud()\n",
    "target_pcd.points = o3d.utility.Vector3dVector(target_points)\n",
    "\n",
    "# Define rotation angle (in radians)\n",
    "angle = np.radians(10)  # Example: 30 degrees\n",
    "\n",
    "# Create rotation matrix for rotation around the z-axis\n",
    "rotation_matrix = np.array([\n",
    "    [np.cos(angle), -np.sin(angle), 0, 0],\n",
    "    [np.sin(angle),  np.cos(angle), 0, 0],\n",
    "    [0,              0,             1, 0],\n",
    "    [0,              0,             0, 1]\n",
    "])\n",
    "\n",
    "# Set the initial transformation incorporating rotation\n",
    "trans_init = rotation_matrix\n",
    "\n",
    "# Perform ICP registration\n",
    "threshold = 50.0  # Distance threshold for ICP\n",
    "icp_result = o3d.pipelines.registration.registration_icp(\n",
    "    source_pcd, target_pcd, threshold, trans_init,\n",
    "    o3d.pipelines.registration.TransformationEstimationPointToPoint()\n",
    ")\n",
    "\n",
    "# Extract transformation matrix\n",
    "transformation = icp_result.transformation\n",
    "print(\"Transformation Matrix:\\n\", transformation)\n",
    "\n",
    "# Apply transformation to the source point cloud\n",
    "source_pcd.transform(transformation)\n",
    "\n",
    "# Update the DataFrame with the transformed coordinates\n",
    "transformed_points = np.asarray(source_pcd.points)\n",
    "rct_df['x_translated'] = transformed_points[:, 0]\n",
    "rct_df['y_translated'] = transformed_points[:, 1]\n",
    "rct_df"
   ]
  },
  {
   "cell_type": "markdown",
   "metadata": {},
   "source": [
    "### Complete translation of RCT to inventory using CloudCompare\n",
    "\n",
    "There are many ways we could go about aligning the RCT tree locations with the inventory. One option would be to use CloudCompare, it may be a simple method to visualise and iteratively adjust the translation."
   ]
  },
  {
   "cell_type": "markdown",
   "metadata": {},
   "source": [
    "### Plot the updated RCT stem locations, along with the inventory data. "
   ]
  },
  {
   "cell_type": "code",
   "execution_count": null,
   "metadata": {},
   "outputs": [],
   "source": [
    "# Calculate stem area\n",
    "rct_df['stem_area'] = np.pi * (rct_df['DBH'] ** 2) * 100\n",
    "\n",
    "# Plot the RCT tree locations along with inventory data\n",
    "plt.figure(figsize=(12, 12))\n",
    "\n",
    "# Scatter plot for tree_merged_df\n",
    "plt.scatter(rct_df['x_translated'], rct_df['y_translated'], alpha=0.5, label='RCT Trees')\n",
    "\n",
    "# Scatter plot for inventory_df\n",
    "plt.scatter(inventory_df['x'], inventory_df['y'], alpha=0.5, label='Inventory Trees')\n",
    "\n",
    "# Adding tree ID labels for inventory_df points\n",
    "for i in range(inventory_df.shape[0]):\n",
    "    plt.text(inventory_df['x'][i], inventory_df['y'][i], f\"{inventory_df['tree_number'][i]}\")\n",
    "\n",
    "# Adding labels and grid\n",
    "plt.xlabel('X Coordinate')\n",
    "plt.ylabel('Y Coordinate')\n",
    "plt.grid(True)\n",
    "plt.axhline(0, color='black', linewidth=0.5)\n",
    "plt.axvline(0, color='black', linewidth=0.5)\n",
    "plt.legend()\n",
    "plt.show()"
   ]
  },
  {
   "cell_type": "markdown",
   "metadata": {},
   "source": [
    "### Perform a spatial join to transfer the tree ID from the inventory data to the RCT data."
   ]
  },
  {
   "cell_type": "code",
   "execution_count": null,
   "metadata": {},
   "outputs": [],
   "source": [
    "import geopandas as gpd\n",
    "from shapely.geometry import Point\n",
    "\n",
    "# Create GeoDataFrames from pandas\n",
    "translated_tree_merged_gdf = gpd.GeoDataFrame(\n",
    "    rct_df,\n",
    "    geometry=[Point(xy) for xy in zip(rct_df['x_translated'], rct_df['y_translated'])])\n",
    "\n",
    "inventory_gdf = gpd.GeoDataFrame(\n",
    "    inventory_df,\n",
    "    geometry=[Point(xy) for xy in zip(inventory_df['x'], inventory_df['y'])])\n",
    "\n",
    "# Perform spatial join\n",
    "joined_gdf = gpd.sjoin_nearest(\n",
    "    translated_tree_merged_gdf, \n",
    "    inventory_gdf[['geometry', 'tree_number']],  # Include only geometry and tree_id for joining\n",
    "    how=\"inner\", \n",
    "    distance_col=\"distance\"\n",
    ")\n",
    "\n",
    "# Rename tree_id to indicate its source, if needed\n",
    "joined_gdf.rename(columns={'tree_number': 'closest_inv_id'}, inplace=True)\n",
    "\n",
    "# Convert the geo dataframe to a pandas dataframe, removing the geometry column and right index\n",
    "joined_df = pd.DataFrame(joined_gdf.drop(columns=['geometry','index_right']))\n",
    "\n",
    "# Save the joined dataframe to a CSV file\n",
    "joined_df.to_csv('../data/rct_translated_joined_data.csv', index=False)\n",
    "\n",
    "joined_df"
   ]
  },
  {
   "cell_type": "markdown",
   "metadata": {},
   "source": [
    "### Finally, we can plot the RCT data with the joined inventory tree IDs"
   ]
  },
  {
   "cell_type": "code",
   "execution_count": null,
   "metadata": {},
   "outputs": [],
   "source": [
    "# Plot the RCT tree locations along with inventory data\n",
    "plt.figure(figsize=(12, 12))\n",
    "\n",
    "# Scatter plot for tree_merged_df\n",
    "plt.scatter(joined_df['x_translated'], joined_df['y_translated'], alpha=0.5, label='RCT Trees')\n",
    "\n",
    "# Scatter plot for inventory_df\n",
    "plt.scatter(inventory_df['x'], inventory_df['y'], alpha=0.5, label='Inventory Trees')\n",
    "\n",
    "# Adding tree ID labels for inventory_df points\n",
    "for i in range(joined_df.shape[0]):\n",
    "    plt.text(joined_df['x_translated'][i], joined_df['y_translated'][i], f\"{int(joined_df['closest_inv_id'][i])}, dist:{joined_df['distance'][i]:.2f}\")\n",
    "\n",
    "# Adding labels and grid\n",
    "plt.xlabel('X Coordinate')\n",
    "plt.ylabel('Y Coordinate')\n",
    "plt.grid(True)\n",
    "plt.axhline(0, color='black', linewidth=0.5)\n",
    "plt.axvline(0, color='black', linewidth=0.5)\n",
    "plt.legend()\n",
    "plt.show()"
   ]
  }
 ],
 "metadata": {
  "kernelspec": {
   "display_name": ".venv",
   "language": "python",
   "name": "python3"
  },
  "language_info": {
   "codemirror_mode": {
    "name": "ipython",
    "version": 3
   },
   "file_extension": ".py",
   "mimetype": "text/x-python",
   "name": "python",
   "nbconvert_exporter": "python",
   "pygments_lexer": "ipython3",
   "version": "3.11.4"
  }
 },
 "nbformat": 4,
 "nbformat_minor": 2
}
