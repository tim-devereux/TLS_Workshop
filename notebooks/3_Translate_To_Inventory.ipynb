{
 "cells": [
  {
   "cell_type": "markdown",
   "metadata": {},
   "source": [
    "### Notebook 3 - Translate RCT Output to align with Inventory Data\n",
    "\n",
    "This notebook takes the parsed RCT output from the previous notebooks and aligns it with the inventory data. It also transfers the Tree ID from the inventory to the RCT data using a spatial join."
   ]
  },
  {
   "cell_type": "code",
   "execution_count": null,
   "metadata": {},
   "outputs": [],
   "source": [
    "# Suppress depreciation warnings\n",
    "import warnings\n",
    "warnings.filterwarnings(\"ignore\", category=DeprecationWarning)\n",
    "\n",
    "# Import the required modules\n",
    "import matplotlib.pyplot as plt\n",
    "import numpy as np\n",
    "import pandas as pd\n",
    "import helper_functions"
   ]
  },
  {
   "cell_type": "markdown",
   "metadata": {},
   "source": [
    "### Load in Inventory data"
   ]
  },
  {
   "cell_type": "code",
   "execution_count": null,
   "metadata": {},
   "outputs": [],
   "source": [
    "# Read in as pandas dataframe\n",
    "inventory_df = pd.read_csv('../data/inventory_data.csv')\n",
    "\n",
    "# Filter to only include the data for Mak1\n",
    "inventory_df = inventory_df[inventory_df['plot_id'] == 'Mak1']\n",
    "\n",
    "inventory_df"
   ]
  },
  {
   "cell_type": "markdown",
   "metadata": {},
   "source": [
    "### Convert the inventory tree locations to Cartesian coordinates"
   ]
  },
  {
   "cell_type": "code",
   "execution_count": null,
   "metadata": {},
   "outputs": [],
   "source": [
    "inventory_df['x'] = inventory_df['distance'] * np.sin(np.radians(inventory_df['bearing']))\n",
    "inventory_df['y'] = inventory_df['distance'] * np.cos(np.radians(inventory_df['bearing']))"
   ]
  },
  {
   "cell_type": "markdown",
   "metadata": {},
   "source": [
    "#### Load in the RCT data"
   ]
  },
  {
   "cell_type": "code",
   "execution_count": null,
   "metadata": {},
   "outputs": [],
   "source": [
    "rct_df = pd.read_csv('../data/rct_tree_data.csv')\n",
    "rct_df"
   ]
  },
  {
   "cell_type": "code",
   "execution_count": null,
   "metadata": {},
   "outputs": [],
   "source": [
    "# Plot the RCT tree locations along with inventory data\n",
    "plt.figure(figsize=(12, 12))\n",
    "\n",
    "# Scatter plot for tree_merged_df\n",
    "plt.scatter(rct_df['x'], rct_df['y'], alpha=0.5, label='RCT Trees')\n",
    "\n",
    "# Scatter plot for inventory_df\n",
    "plt.scatter(inventory_df['x'], inventory_df['y'], alpha=0.5, label='Inventory Trees')\n",
    "\n",
    "# Adding tree ID labels for inventory_df points\n",
    "for i in range(inventory_df.shape[0]):\n",
    "    plt.text(inventory_df['x'][i], inventory_df['y'][i], f\"{inventory_df['tree_number'][i]}\")\n",
    "\n",
    "# Adding labels and grid\n",
    "plt.xlabel('X Coordinate')\n",
    "plt.ylabel('Y Coordinate')\n",
    "plt.grid(True)\n",
    "plt.axhline(0, color='black', linewidth=0.5)\n",
    "plt.axvline(0, color='black', linewidth=0.5)\n",
    "plt.legend()\n",
    "plt.show()"
   ]
  },
  {
   "cell_type": "markdown",
   "metadata": {},
   "source": [
    "### Perfom translation of RCT data to inventory using Open3D iterative closest point algorthim."
   ]
  },
  {
   "cell_type": "code",
   "execution_count": null,
   "metadata": {},
   "outputs": [],
   "source": [
    "# Convert dataframes to numpy arrays of points\n",
    "source_points = rct_df[['x', 'y']].to_numpy()\n",
    "target_points = inventory_df[['x', 'y']].to_numpy()\n",
    "\n",
    "# Ensure points are in the correct shape (Nx3) by adding a z dimension of 0\n",
    "source_points = np.hstack((source_points, np.zeros((source_points.shape[0], 1))))\n",
    "target_points = np.hstack((target_points, np.zeros((target_points.shape[0], 1))))\n",
    "\n",
    "# Initial rotation matrix\n",
    "angle = np.radians(10)  # Example: 10 degrees\n",
    "rotation = helper_functions.R.from_euler('z', angle, degrees=False).as_matrix()\n",
    "init_pose = np.eye(4)\n",
    "init_pose[:3, :3] = rotation\n",
    "\n",
    "# Run ICP\n",
    "T, _ = helper_functions.icp(source_points, target_points, init_pose)\n",
    "\n",
    "# Apply the final transformation to the source points\n",
    "source_points_transformed = (source_points @ T[:3, :3].T) + T[:3, 3]\n",
    "\n",
    "# Update the DataFrame with the transformed coordinates\n",
    "rct_df['x_translated'] = source_points_transformed[:, 0]\n",
    "rct_df['y_translated'] = source_points_transformed[:, 1]\n",
    "\n",
    "print(\"Transformation Matrix:\\n\", T)\n",
    "print(rct_df)\n"
   ]
  },
  {
   "cell_type": "markdown",
   "metadata": {},
   "source": [
    "There are many ways we could go about aligning the RCT tree locations with the inventory. One option would be to use CloudCompare, in some cases it may be  better to visualise and iteratively adjust the translation."
   ]
  },
  {
   "cell_type": "markdown",
   "metadata": {},
   "source": [
    "### Plot the updated RCT stem locations, along with the inventory data. "
   ]
  },
  {
   "cell_type": "code",
   "execution_count": null,
   "metadata": {},
   "outputs": [],
   "source": [
    "# Calculate stem area\n",
    "rct_df['stem_area'] = np.pi * (rct_df['DBH'] ** 2) * 100\n",
    "\n",
    "# Plot the RCT tree locations along with inventory data\n",
    "plt.figure(figsize=(12, 12))\n",
    "\n",
    "# Scatter plot for tree_merged_df\n",
    "plt.scatter(rct_df['x_translated'], rct_df['y_translated'], alpha=0.5, label='RCT Trees')\n",
    "\n",
    "# Scatter plot for inventory_df\n",
    "plt.scatter(inventory_df['x'], inventory_df['y'], alpha=0.5, label='Inventory Trees')\n",
    "\n",
    "# Adding tree ID labels for inventory_df points\n",
    "for i in range(inventory_df.shape[0]):\n",
    "    plt.text(inventory_df['x'][i], inventory_df['y'][i], f\"{inventory_df['tree_number'][i]}\")\n",
    "\n",
    "# Adding labels and grid\n",
    "plt.xlabel('X Coordinate')\n",
    "plt.ylabel('Y Coordinate')\n",
    "plt.grid(True)\n",
    "plt.axhline(0, color='black', linewidth=0.5)\n",
    "plt.axvline(0, color='black', linewidth=0.5)\n",
    "plt.legend()\n",
    "plt.show()"
   ]
  },
  {
   "cell_type": "markdown",
   "metadata": {},
   "source": [
    "### Perform a spatial join to transfer the tree ID from the inventory data to the RCT data."
   ]
  },
  {
   "cell_type": "code",
   "execution_count": null,
   "metadata": {},
   "outputs": [],
   "source": [
    "import geopandas as gpd\n",
    "from shapely.geometry import Point\n",
    "\n",
    "# Create GeoDataFrames from pandas\n",
    "translated_tree_merged_gdf = gpd.GeoDataFrame(\n",
    "    rct_df,\n",
    "    geometry=[Point(xy) for xy in zip(rct_df['x_translated'], rct_df['y_translated'])])\n",
    "\n",
    "inventory_gdf = gpd.GeoDataFrame(\n",
    "    inventory_df,\n",
    "    geometry=[Point(xy) for xy in zip(inventory_df['x'], inventory_df['y'])])\n",
    "\n",
    "# Perform spatial join\n",
    "joined_gdf = gpd.sjoin_nearest(\n",
    "    translated_tree_merged_gdf, \n",
    "    inventory_gdf[['geometry', 'tree_number']],  # Include only geometry and tree_number for joining\n",
    "    how=\"inner\", \n",
    "    distance_col=\"distance\"\n",
    ")\n",
    "\n",
    "# Rename tree_id to indicate its source, if needed\n",
    "joined_gdf.rename(columns={'tree_number': 'closest_inv_id'}, inplace=True)\n",
    "\n",
    "# Convert the geo dataframe to a pandas dataframe, removing the geometry column and right index\n",
    "joined_df = pd.DataFrame(joined_gdf.drop(columns=['geometry','index_right']))\n",
    "\n",
    "# Save the joined dataframe to a CSV file\n",
    "joined_df.to_csv('../data/rct_translated_joined_data.csv', index=False)\n",
    "\n",
    "joined_df"
   ]
  },
  {
   "cell_type": "markdown",
   "metadata": {},
   "source": [
    "### Finally, we can plot the RCT data with the joined inventory tree IDs"
   ]
  },
  {
   "cell_type": "code",
   "execution_count": null,
   "metadata": {},
   "outputs": [],
   "source": [
    "# Plot the RCT tree locations along with inventory data\n",
    "plt.figure(figsize=(12, 12))\n",
    "\n",
    "# Scatter plot for tree_merged_df\n",
    "plt.scatter(joined_df['x_translated'], joined_df['y_translated'], alpha=0.5, label='RCT Trees')\n",
    "\n",
    "# Scatter plot for inventory_df\n",
    "plt.scatter(inventory_df['x'], inventory_df['y'], alpha=0.5, label='Inventory Trees')\n",
    "\n",
    "# Adding tree ID labels for inventory_df points\n",
    "for i in range(joined_df.shape[0]):\n",
    "    plt.text(joined_df['x_translated'][i], joined_df['y_translated'][i], f\"{int(joined_df['closest_inv_id'][i])}, dist:{joined_df['distance'][i]:.2f}\")\n",
    "\n",
    "# Adding labels and grid\n",
    "plt.xlabel('X Coordinate')\n",
    "plt.ylabel('Y Coordinate')\n",
    "plt.grid(True)\n",
    "plt.axhline(0, color='black', linewidth=0.5)\n",
    "plt.axvline(0, color='black', linewidth=0.5)\n",
    "plt.legend()\n",
    "plt.show()"
   ]
  }
 ],
 "metadata": {
  "kernelspec": {
   "display_name": ".venv",
   "language": "python",
   "name": "python3"
  },
  "language_info": {
   "codemirror_mode": {
    "name": "ipython",
    "version": 3
   },
   "file_extension": ".py",
   "mimetype": "text/x-python",
   "name": "python",
   "nbconvert_exporter": "python",
   "pygments_lexer": "ipython3",
   "version": "3.11.4"
  }
 },
 "nbformat": 4,
 "nbformat_minor": 2
}
