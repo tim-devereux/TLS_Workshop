{
 "cells": [
  {
   "cell_type": "markdown",
   "metadata": {},
   "source": [
    "# Notebook 1 - Extracting Tree Structural Metrics using RayCloudTools\n",
    "\n",
    "## Overview\n",
    "\n",
    "This guide explains how to extract plot level forest structural information using RayCloudTools (RCT). This notebook contains commands to be copied and run within the RTC shell. If you need usage information for any of the tools, you can type the tool name in the shell to return usage information (e.g. `rayextract`).\n",
    "\n",
    "## Prerequisites\n",
    "\n",
    "- **Dependencies**: Ensure you installed VSCode and WSL with the RayCloudTools container.\n",
    "- **Environment**: You should have this repository open in VSCode, using WSL as the host.\n",
    "- **Data Preparation**: You should have an already coregistered plot level point cloud as PLY or LAZ v1.2."
   ]
  },
  {
   "cell_type": "markdown",
   "metadata": {},
   "source": [
    "## Workflow Steps\n",
    "\n",
    "### 1. Enter the RCT container shell\n",
    "\n",
    "Enter the RTC container shell by running the following command in the WSL terminal:"
   ]
  },
  {
   "cell_type": "code",
   "execution_count": 1,
   "metadata": {
    "vscode": {
     "languageId": "shellscript"
    }
   },
   "outputs": [],
   "source": [
    "# Run this command in your WSL terminal (not in this notebook)\n",
    "# apptainer shell raycloudtools_latest.sif"
   ]
  },
  {
   "cell_type": "markdown",
   "metadata": {},
   "source": [
    "### 2. Navigate to the data directory\n",
    "\n",
    "You can change the current directory within the terminal using the `cd` command:"
   ]
  },
  {
   "cell_type": "code",
   "execution_count": 2,
   "metadata": {
    "vscode": {
     "languageId": "shellscript"
    }
   },
   "outputs": [],
   "source": [
    "# cd TLS_Workshop/data"
   ]
  },
  {
   "cell_type": "markdown",
   "metadata": {},
   "source": [
    "List the contents of the current directory:"
   ]
  },
  {
   "cell_type": "code",
   "execution_count": 3,
   "metadata": {
    "vscode": {
     "languageId": "shellscript"
    }
   },
   "outputs": [],
   "source": [
    "# ls"
   ]
  },
  {
   "cell_type": "markdown",
   "metadata": {},
   "source": [
    "You should see the point cloud data and the inventory data listed.\n",
    "\n",
    "### 3. Importing Data\n",
    "\n",
    "To import point cloud data to use in RCT, we use the `rayimport` tool. Some functionality within RCT uses the trajectories of LiDAR pulses to calculate density. This information is not needed to get woody volume, so we can set the ray trajectories to 0,0,-10 for all pulses using `ray 0,0,-10`. RCT also uses pulse return intensity to determine whether a pulse hits or misses, this is not needed either so we set them all to hits (discrete points) using `--max_intensity 0`.\n",
    "\n",
    "To import data from a point cloud without unique pulse trajectories and with all data as hits, use the following command:"
   ]
  },
  {
   "cell_type": "code",
   "execution_count": 4,
   "metadata": {
    "vscode": {
     "languageId": "shellscript"
    }
   },
   "outputs": [],
   "source": [
    "# rayimport Mak1_clipped.ply ray 0,0,-10 --max_intensity 0"
   ]
  },
  {
   "cell_type": "markdown",
   "metadata": {},
   "source": [
    "### 4. Clipping Data to Plot Boundary\n",
    "\n",
    "Next, we clip the point cloud to the plot boundary using `raysplit capsule`. This command splits within a cylindrical capsule using the cylinder start, end and radius. If the plot centre coordinate is not already known, we can determine this using the CloudCompare point picking tool. We already know the plot centre for our data is 2,12,0, and the plot radius is 25m. The Z upper bound is set to 30m (should be more than the tallest tree), and the Z lower bound is set as -10 to capture any data below 0. This will give us the following command which should be run in the terminal:"
   ]
  },
  {
   "cell_type": "code",
   "execution_count": 5,
   "metadata": {
    "vscode": {
     "languageId": "shellscript"
    }
   },
   "outputs": [],
   "source": [
    "# raysplit Mak1_clipped_raycloud.ply capsule 2,12,-10 2,12,30 20"
   ]
  },
  {
   "cell_type": "markdown",
   "metadata": {},
   "source": [
    "The output is 2 separate files, '_inside.ply' and '_outside.ply'. The data within our plot will have the '_inside.ply' suffix. This is the data we will use in the subsequent steps. You can load this data into CloudCompare to check that you've clipped it correctly.\n",
    "\n",
    "### 5. Extracting terrain\n",
    "\n",
    "Here we extract the digital terrain model, this is required to determine the base of trees in the subsequent step:"
   ]
  },
  {
   "cell_type": "code",
   "execution_count": 6,
   "metadata": {
    "vscode": {
     "languageId": "shellscript"
    }
   },
   "outputs": [],
   "source": [
    "# rayextract terrain Mak1_clipped_raycloud_inside.ply"
   ]
  },
  {
   "cell_type": "markdown",
   "metadata": {},
   "source": [
    "The output is a 3D mesh, which delineates the contours of the ground. Load this into CloudCompare to check the quality.\n",
    "\n",
    "### 6. Extracting trees using 'rayextract trees'\n",
    "\n",
    "Extract trees using the raycloud and the terrain mesh as input:"
   ]
  },
  {
   "cell_type": "code",
   "execution_count": 7,
   "metadata": {
    "vscode": {
     "languageId": "shellscript"
    }
   },
   "outputs": [],
   "source": [
    "# rayextract trees Mak1_clipped_raycloud_inside.ply Mak1_clipped_raycloud_inside_mesh.ply"
   ]
  },
  {
   "cell_type": "markdown",
   "metadata": {},
   "source": [
    "`rayextract trees` will generate three outputs:\n",
    "\n",
    "1. A segmented raycloud, where each tree is uniquely colored.\n",
    "2. A 3D mesh representing the woody components (stems and branches).\n",
    "3. A trees.txt file containing cylinder data representing the tree structural models. All tree metrics are derived from these models.\n",
    "\n",
    "The segmented raycloud and the woody mesh can also be visualised in CloudCompare. It is important to check the quality of the individual tree segmentation and the tree cylinder models as this will affect the accuracy of our metrics.\n",
    "\n",
    "### 7. Computing tree metrics\n",
    "\n",
    "Finally, we compute a set of common metrics from the structural models using the `treeinfo` command. This tool is part of a separate library 'treetools', but is also available within the container."
   ]
  },
  {
   "cell_type": "code",
   "execution_count": 8,
   "metadata": {
    "vscode": {
     "languageId": "shellscript"
    }
   },
   "outputs": [],
   "source": [
    "# treeinfo Mak1_clipped_raycloud_inside_trees.txt"
   ]
  },
  {
   "cell_type": "markdown",
   "metadata": {},
   "source": [
    "This will produce another .txt file with the suffix '_trees_info.txt'. This file contains the additional metrics per tree. This file and 'trees.txt' contain all the data that is used in the subsequent Python analysis."
   ]
  },
  {
   "cell_type": "markdown",
   "metadata": {},
   "source": [
    "## Quick Command Reference\n",
    "\n",
    "Here are all the commands in sequence for easy copying:"
   ]
  },
  {
   "cell_type": "code",
   "execution_count": 9,
   "metadata": {
    "vscode": {
     "languageId": "shellscript"
    }
   },
   "outputs": [],
   "source": [
    "# Complete workflow - copy each line individually to your terminal\n",
    "\n",
    "# 1. Enter container\n",
    "# apptainer shell raycloudtools_latest.sif\n",
    "\n",
    "# 2. Navigate to data\n",
    "# cd TLS_Workshop/data\n",
    "# ls\n",
    "\n",
    "# 3. Import data\n",
    "# rayimport Mak1_clipped.ply ray 0,0,-10 --max_intensity 0\n",
    "\n",
    "# 4. Clip to plot boundary\n",
    "# raysplit Mak1_clipped_raycloud.ply capsule 2,12,-10 2,12,30 20\n",
    "\n",
    "# 5. Extract terrain\n",
    "# rayextract terrain Mak1_clipped_raycloud_inside.ply\n",
    "\n",
    "# 6. Extract trees\n",
    "# rayextract trees Mak1_clipped_raycloud_inside.ply Mak1_clipped_raycloud_inside_mesh.ply\n",
    "\n",
    "# 7. Compute metrics\n",
    "# treeinfo Mak1_clipped_raycloud_inside_trees.txt"
   ]
  }
 ],
 "metadata": {
  "kernelspec": {
   "display_name": ".venv",
   "language": "python",
   "name": "python3"
  },
  "language_info": {
   "codemirror_mode": {
    "name": "ipython",
    "version": 3
   },
   "file_extension": ".py",
   "mimetype": "text/x-python",
   "name": "python",
   "nbconvert_exporter": "python",
   "pygments_lexer": "ipython3",
   "version": "3.12.1"
  }
 },
 "nbformat": 4,
 "nbformat_minor": 4
}
